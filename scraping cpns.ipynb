import requests
import csv

# Nama file CSV
csv_filename = 'data_formasi_cpns_2024.csv'
# masukan jumlah formasi yang keluar 
total_data = 8780
# Menulis header CSV sekali saja sebelum loop dimulai
with open(csv_filename, mode='w', newline='', encoding='utf-8') as file:
    writer = csv.writer(file)
    header = [
        'Formasi ID', 'Institusi Nama', 'Jabatan Nama', 'Formasi Nama',
        'Jabatan Nama', 'Lokasi Nama', 'Jumlah Formasi', 'Disable',
        'Gaji Min', 'Gaji Max'
    ]
    writer.writerow(header)

# Loop offset dari 0 hingga 8770 dengan langkah 10
for offset in range(0, total_data, 10):
    #masukan link hasil filter sscsn
    url = f"https://api-sscasn.bkn.go.id/2024/portal/spf?kode_ref_pend=5100144&offset={offset}&formasi=UMUM"

    # Headers yang digunakan
    headers = {
        "User-Agent": "Mozilla/5.0 (Windows NT 10.0; Win64; x64; rv:124.0) Gecko/20100101 Firefox/124.0",
        "Accept": "application/json, text/plain, */*",
        "Accept-Language": "en-US,en;q=0.5",
        "Accept-Encoding": "gzip, deflate, br",
        "Referer": "https://sscasn.bkn.go.id/",
        "Origin": "https://sscasn.bkn.go.id",
        "Connection": "keep-alive",
        "Sec-Fetch-Dest": "empty",
        "Sec-Fetch-Mode": "cors",
        "Sec-Fetch-Site": "same-site"
    }

    # Melakukan permintaan GET
    response = requests.get(url, headers=headers)

    # Memeriksa status kode
    if response.status_code == 200:
        # Mengambil konten dari respons JSON
        response_json = response.json()
        
        # Mengakses bagian 'data' dari respons JSON
        data = response_json.get('data', {}).get('data', [])

        # Menulis baris data ke file CSV
        with open(csv_filename, mode='a', newline='', encoding='utf-8') as file:
            writer = csv.writer(file)
            
            for item in data:
                row = [
                    item.get('formasi_id', ''),
                    item.get('ins_nm', ''),
                    item.get('jp_nama', ''),
                    item.get('formasi_nm', ''),
                    item.get('jabatan_nm', ''),
                    item.get('lokasi_nm', ''),
                    item.get('jumlah_formasi', ''),
                    item.get('disable', ''),
                    item.get('gaji_min', ''),
                    item.get('gaji_max', '')
                ]
                writer.writerow(row)

        print(f"Data dari offset {offset} telah disimpan.")
    
    else:
        print(f"Request failed with status code {response.status_code} pada offset {offset}")

    # Jika perlu, mencetak header dari respons
    print("\nResponse Headers:")
    for header, value in response.headers.items():
        print(f"{header}: {value}")

print(f"Semua data telah disimpan dalam file '{csv_filename}'")
